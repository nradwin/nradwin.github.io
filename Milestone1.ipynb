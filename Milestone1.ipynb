{
  "nbformat": 4,
  "nbformat_minor": 0,
  "metadata": {
    "colab": {
      "provenance": [],
      "collapsed_sections": []
    },
    "kernelspec": {
      "name": "python3",
      "display_name": "Python 3"
    },
    "language_info": {
      "name": "python"
    }
  },
  "cells": [
    {
      "cell_type": "markdown",
      "source": [
        "# 2016 Fake News on Facebook Politics Pages and Current Engagement\n",
        "\n",
        "Sam DeMarinis and Nick Radwin\n",
        "\n",
        "[Link to our webpage](https://nradwin.github.io/)"
      ],
      "metadata": {
        "id": "n37-sDTG4aep"
      }
    },
    {
      "cell_type": "markdown",
      "source": [
        "# Project Goals\n",
        "The goal of this project is to analyze how nine Facebook news pages’ overall engagement today has changed with respect to their amount of fake news reported in 2016. We are taking pre-existing data and gathering our own from a different social media platform's perspective to make conclusions about the relationship between a news source's amount of fake news in 2016 and their popularity today."
      ],
      "metadata": {
        "id": "WtOHxsnqFvS4"
      }
    },
    {
      "cell_type": "markdown",
      "source": [
        "#Project Dataset\n",
        "\n",
        "The dataset that we are considering working with comes from a study conducted in BuzzFeed’s 2016 article \"Fact-Checking Facebook Politics Pages.\" At the time of the 2016 presidential election, there were increasing amounts of fake news being spread on Facebook and other platforms. BuzzFeed News decided to conduct a study to determine the frequency of misinformation being spread from the Left and from the Right. They did so by analyzing three hyperpartisan right- and left-wing Facebook pages as well as three large mainstream political news pages. Over the course of seven weekdays, they kept track of each post made by each of these news sources and manually fact checked them. Posts were rated “Mostly True”  or “Mostly False” (a post that was “satirical or opinion-driven” was labeled as “no factual content”). They also analyzed the engagement statistics (reactions, shares, comments) for each of these posts, as well as the kind of media it was (link, photo, video, etc.). In total, 2,282 posts were rated: 1,145 from mainstream pages, 666 from hyperpartisan right-wing pages, and 471 from hyperpartisan left-wing pages (link to the BuzzFeed article: *Hyperpartisan Facebook Pages Are Publishing False And Misleading Information At An Alarming Rate* https://www.buzzfeednews.com/article/craigsilverman/partisan-fb-pages-analysis).\n",
        "\n",
        "Since BuzzFeed news already provided us with an in-depth analysis of the data that they collected, we are interested in combining this dataset with other dataset(s) in order to answer questions of our own. One such question that we are hoping to answer is how the engagement of these news pages has changed from 2016 to 2022. Are pages that contained large amounts of fake news in 2016 more or less popular now? Do they cease to exist?\n",
        "\n",
        "If we are to use another dataset to make new insights, we will consider how memes influence the frequency and momentum of misinformation in the pubic media, since our primary dataset does not consider satirical content. Looking at this relationship would give us a much more well-rounded view of how misinformation manifests over time, as memes often spark new interest in social issues and can be very polarizing because of their opinion-driven nature.\n",
        "\n"
      ],
      "metadata": {
        "id": "XSadiudRx9fW"
      }
    },
    {
      "cell_type": "markdown",
      "source": [
        "#Colaboration Plan"
      ],
      "metadata": {
        "id": "DYONHwS2yQKG"
      }
    },
    {
      "cell_type": "markdown",
      "source": [
        "Our collaboration plan is to meet at least twice a week to finalize milestones 1, due October 14, and 2, due November 18. Our workflow starts in a shared google doc, making it easier compared to Google Colab for seeing live updates from each other. From the google doc, our work is formatted in Colab; Colab allows us to fill the gaps in our project that google docs leaves, since we can’t deal with our data in docs. Our milestones are then finalized in Colab with plotting commands, relevant data concatenation, and other data visualizations or insights."
      ],
      "metadata": {
        "id": "Y3C2Gyks4Tlg"
      }
    },
    {
      "cell_type": "markdown",
      "source": [
        "#ETL (Extraction, Transform, and Load)\n"
      ],
      "metadata": {
        "id": "iE_y8PrSyV7n"
      }
    },
    {
      "cell_type": "markdown",
      "source": [
        "We are going to load the dataset created by BuzzFeed News into a pandas DataFrame. The dataset is already grouped by the Facebook accounts, and each observational unit is a post. Columns consist of each post's account_id, post_id, Category, Page, Post URL, Date Published, Post Type, Rating, Debate, share_count, reaction_count, and comment_count."
      ],
      "metadata": {
        "id": "6ZUgI0E15BRD"
      }
    },
    {
      "cell_type": "code",
      "source": [
        "from google.colab import drive\n",
        "\n",
        "drive.mount('/content/drive')\n",
        "%cd /content/drive/My Drive/Colab Notebooks"
      ],
      "metadata": {
        "colab": {
          "base_uri": "https://localhost:8080/"
        },
        "id": "s7XEcHrb0sAE",
        "outputId": "9bee8b90-8c80-4087-c720-cb6b886a553c"
      },
      "execution_count": null,
      "outputs": [
        {
          "output_type": "stream",
          "name": "stdout",
          "text": [
            "Mounted at /content/drive\n",
            "/content/drive/My Drive/Colab Notebooks\n"
          ]
        }
      ]
    },
    {
      "cell_type": "code",
      "source": [
        "import pandas as pd\n",
        "\n",
        "buzzfeed_df = pd.read_csv(\"facebook-fact-check.csv\")\n",
        "buzzfeed_df"
      ],
      "metadata": {
        "colab": {
          "base_uri": "https://localhost:8080/",
          "height": 371
        },
        "id": "M3tl2tk10CdQ",
        "outputId": "b84348e9-4851-44b1-fd8b-ec9fb7aab364"
      },
      "execution_count": null,
      "outputs": [
        {
          "output_type": "error",
          "ename": "FileNotFoundError",
          "evalue": "ignored",
          "traceback": [
            "\u001b[0;31m---------------------------------------------------------------------------\u001b[0m",
            "\u001b[0;31mFileNotFoundError\u001b[0m                         Traceback (most recent call last)",
            "\u001b[0;32m<ipython-input-4-55ef490b446d>\u001b[0m in \u001b[0;36m<module>\u001b[0;34m\u001b[0m\n\u001b[1;32m      1\u001b[0m \u001b[0;32mimport\u001b[0m \u001b[0mpandas\u001b[0m \u001b[0;32mas\u001b[0m \u001b[0mpd\u001b[0m\u001b[0;34m\u001b[0m\u001b[0;34m\u001b[0m\u001b[0m\n\u001b[1;32m      2\u001b[0m \u001b[0;34m\u001b[0m\u001b[0m\n\u001b[0;32m----> 3\u001b[0;31m \u001b[0mbuzzfeed_df\u001b[0m \u001b[0;34m=\u001b[0m \u001b[0mpd\u001b[0m\u001b[0;34m.\u001b[0m\u001b[0mread_csv\u001b[0m\u001b[0;34m(\u001b[0m\u001b[0;34m\"facebook-fact-check.csv\"\u001b[0m\u001b[0;34m)\u001b[0m\u001b[0;34m\u001b[0m\u001b[0;34m\u001b[0m\u001b[0m\n\u001b[0m\u001b[1;32m      4\u001b[0m \u001b[0mbuzzfeed_df\u001b[0m\u001b[0;34m\u001b[0m\u001b[0;34m\u001b[0m\u001b[0m\n",
            "\u001b[0;32m/usr/local/lib/python3.7/dist-packages/pandas/util/_decorators.py\u001b[0m in \u001b[0;36mwrapper\u001b[0;34m(*args, **kwargs)\u001b[0m\n\u001b[1;32m    309\u001b[0m                     \u001b[0mstacklevel\u001b[0m\u001b[0;34m=\u001b[0m\u001b[0mstacklevel\u001b[0m\u001b[0;34m,\u001b[0m\u001b[0;34m\u001b[0m\u001b[0;34m\u001b[0m\u001b[0m\n\u001b[1;32m    310\u001b[0m                 )\n\u001b[0;32m--> 311\u001b[0;31m             \u001b[0;32mreturn\u001b[0m \u001b[0mfunc\u001b[0m\u001b[0;34m(\u001b[0m\u001b[0;34m*\u001b[0m\u001b[0margs\u001b[0m\u001b[0;34m,\u001b[0m \u001b[0;34m**\u001b[0m\u001b[0mkwargs\u001b[0m\u001b[0;34m)\u001b[0m\u001b[0;34m\u001b[0m\u001b[0;34m\u001b[0m\u001b[0m\n\u001b[0m\u001b[1;32m    312\u001b[0m \u001b[0;34m\u001b[0m\u001b[0m\n\u001b[1;32m    313\u001b[0m         \u001b[0;32mreturn\u001b[0m \u001b[0mwrapper\u001b[0m\u001b[0;34m\u001b[0m\u001b[0;34m\u001b[0m\u001b[0m\n",
            "\u001b[0;32m/usr/local/lib/python3.7/dist-packages/pandas/io/parsers/readers.py\u001b[0m in \u001b[0;36mread_csv\u001b[0;34m(filepath_or_buffer, sep, delimiter, header, names, index_col, usecols, squeeze, prefix, mangle_dupe_cols, dtype, engine, converters, true_values, false_values, skipinitialspace, skiprows, skipfooter, nrows, na_values, keep_default_na, na_filter, verbose, skip_blank_lines, parse_dates, infer_datetime_format, keep_date_col, date_parser, dayfirst, cache_dates, iterator, chunksize, compression, thousands, decimal, lineterminator, quotechar, quoting, doublequote, escapechar, comment, encoding, encoding_errors, dialect, error_bad_lines, warn_bad_lines, on_bad_lines, delim_whitespace, low_memory, memory_map, float_precision, storage_options)\u001b[0m\n\u001b[1;32m    584\u001b[0m     \u001b[0mkwds\u001b[0m\u001b[0;34m.\u001b[0m\u001b[0mupdate\u001b[0m\u001b[0;34m(\u001b[0m\u001b[0mkwds_defaults\u001b[0m\u001b[0;34m)\u001b[0m\u001b[0;34m\u001b[0m\u001b[0;34m\u001b[0m\u001b[0m\n\u001b[1;32m    585\u001b[0m \u001b[0;34m\u001b[0m\u001b[0m\n\u001b[0;32m--> 586\u001b[0;31m     \u001b[0;32mreturn\u001b[0m \u001b[0m_read\u001b[0m\u001b[0;34m(\u001b[0m\u001b[0mfilepath_or_buffer\u001b[0m\u001b[0;34m,\u001b[0m \u001b[0mkwds\u001b[0m\u001b[0;34m)\u001b[0m\u001b[0;34m\u001b[0m\u001b[0;34m\u001b[0m\u001b[0m\n\u001b[0m\u001b[1;32m    587\u001b[0m \u001b[0;34m\u001b[0m\u001b[0m\n\u001b[1;32m    588\u001b[0m \u001b[0;34m\u001b[0m\u001b[0m\n",
            "\u001b[0;32m/usr/local/lib/python3.7/dist-packages/pandas/io/parsers/readers.py\u001b[0m in \u001b[0;36m_read\u001b[0;34m(filepath_or_buffer, kwds)\u001b[0m\n\u001b[1;32m    480\u001b[0m \u001b[0;34m\u001b[0m\u001b[0m\n\u001b[1;32m    481\u001b[0m     \u001b[0;31m# Create the parser.\u001b[0m\u001b[0;34m\u001b[0m\u001b[0;34m\u001b[0m\u001b[0;34m\u001b[0m\u001b[0m\n\u001b[0;32m--> 482\u001b[0;31m     \u001b[0mparser\u001b[0m \u001b[0;34m=\u001b[0m \u001b[0mTextFileReader\u001b[0m\u001b[0;34m(\u001b[0m\u001b[0mfilepath_or_buffer\u001b[0m\u001b[0;34m,\u001b[0m \u001b[0;34m**\u001b[0m\u001b[0mkwds\u001b[0m\u001b[0;34m)\u001b[0m\u001b[0;34m\u001b[0m\u001b[0;34m\u001b[0m\u001b[0m\n\u001b[0m\u001b[1;32m    483\u001b[0m \u001b[0;34m\u001b[0m\u001b[0m\n\u001b[1;32m    484\u001b[0m     \u001b[0;32mif\u001b[0m \u001b[0mchunksize\u001b[0m \u001b[0;32mor\u001b[0m \u001b[0miterator\u001b[0m\u001b[0;34m:\u001b[0m\u001b[0;34m\u001b[0m\u001b[0;34m\u001b[0m\u001b[0m\n",
            "\u001b[0;32m/usr/local/lib/python3.7/dist-packages/pandas/io/parsers/readers.py\u001b[0m in \u001b[0;36m__init__\u001b[0;34m(self, f, engine, **kwds)\u001b[0m\n\u001b[1;32m    809\u001b[0m             \u001b[0mself\u001b[0m\u001b[0;34m.\u001b[0m\u001b[0moptions\u001b[0m\u001b[0;34m[\u001b[0m\u001b[0;34m\"has_index_names\"\u001b[0m\u001b[0;34m]\u001b[0m \u001b[0;34m=\u001b[0m \u001b[0mkwds\u001b[0m\u001b[0;34m[\u001b[0m\u001b[0;34m\"has_index_names\"\u001b[0m\u001b[0;34m]\u001b[0m\u001b[0;34m\u001b[0m\u001b[0;34m\u001b[0m\u001b[0m\n\u001b[1;32m    810\u001b[0m \u001b[0;34m\u001b[0m\u001b[0m\n\u001b[0;32m--> 811\u001b[0;31m         \u001b[0mself\u001b[0m\u001b[0;34m.\u001b[0m\u001b[0m_engine\u001b[0m \u001b[0;34m=\u001b[0m \u001b[0mself\u001b[0m\u001b[0;34m.\u001b[0m\u001b[0m_make_engine\u001b[0m\u001b[0;34m(\u001b[0m\u001b[0mself\u001b[0m\u001b[0;34m.\u001b[0m\u001b[0mengine\u001b[0m\u001b[0;34m)\u001b[0m\u001b[0;34m\u001b[0m\u001b[0;34m\u001b[0m\u001b[0m\n\u001b[0m\u001b[1;32m    812\u001b[0m \u001b[0;34m\u001b[0m\u001b[0m\n\u001b[1;32m    813\u001b[0m     \u001b[0;32mdef\u001b[0m \u001b[0mclose\u001b[0m\u001b[0;34m(\u001b[0m\u001b[0mself\u001b[0m\u001b[0;34m)\u001b[0m\u001b[0;34m:\u001b[0m\u001b[0;34m\u001b[0m\u001b[0;34m\u001b[0m\u001b[0m\n",
            "\u001b[0;32m/usr/local/lib/python3.7/dist-packages/pandas/io/parsers/readers.py\u001b[0m in \u001b[0;36m_make_engine\u001b[0;34m(self, engine)\u001b[0m\n\u001b[1;32m   1038\u001b[0m             )\n\u001b[1;32m   1039\u001b[0m         \u001b[0;31m# error: Too many arguments for \"ParserBase\"\u001b[0m\u001b[0;34m\u001b[0m\u001b[0;34m\u001b[0m\u001b[0;34m\u001b[0m\u001b[0m\n\u001b[0;32m-> 1040\u001b[0;31m         \u001b[0;32mreturn\u001b[0m \u001b[0mmapping\u001b[0m\u001b[0;34m[\u001b[0m\u001b[0mengine\u001b[0m\u001b[0;34m]\u001b[0m\u001b[0;34m(\u001b[0m\u001b[0mself\u001b[0m\u001b[0;34m.\u001b[0m\u001b[0mf\u001b[0m\u001b[0;34m,\u001b[0m \u001b[0;34m**\u001b[0m\u001b[0mself\u001b[0m\u001b[0;34m.\u001b[0m\u001b[0moptions\u001b[0m\u001b[0;34m)\u001b[0m  \u001b[0;31m# type: ignore[call-arg]\u001b[0m\u001b[0;34m\u001b[0m\u001b[0;34m\u001b[0m\u001b[0m\n\u001b[0m\u001b[1;32m   1041\u001b[0m \u001b[0;34m\u001b[0m\u001b[0m\n\u001b[1;32m   1042\u001b[0m     \u001b[0;32mdef\u001b[0m \u001b[0m_failover_to_python\u001b[0m\u001b[0;34m(\u001b[0m\u001b[0mself\u001b[0m\u001b[0;34m)\u001b[0m\u001b[0;34m:\u001b[0m\u001b[0;34m\u001b[0m\u001b[0;34m\u001b[0m\u001b[0m\n",
            "\u001b[0;32m/usr/local/lib/python3.7/dist-packages/pandas/io/parsers/c_parser_wrapper.py\u001b[0m in \u001b[0;36m__init__\u001b[0;34m(self, src, **kwds)\u001b[0m\n\u001b[1;32m     49\u001b[0m \u001b[0;34m\u001b[0m\u001b[0m\n\u001b[1;32m     50\u001b[0m         \u001b[0;31m# open handles\u001b[0m\u001b[0;34m\u001b[0m\u001b[0;34m\u001b[0m\u001b[0;34m\u001b[0m\u001b[0m\n\u001b[0;32m---> 51\u001b[0;31m         \u001b[0mself\u001b[0m\u001b[0;34m.\u001b[0m\u001b[0m_open_handles\u001b[0m\u001b[0;34m(\u001b[0m\u001b[0msrc\u001b[0m\u001b[0;34m,\u001b[0m \u001b[0mkwds\u001b[0m\u001b[0;34m)\u001b[0m\u001b[0;34m\u001b[0m\u001b[0;34m\u001b[0m\u001b[0m\n\u001b[0m\u001b[1;32m     52\u001b[0m         \u001b[0;32massert\u001b[0m \u001b[0mself\u001b[0m\u001b[0;34m.\u001b[0m\u001b[0mhandles\u001b[0m \u001b[0;32mis\u001b[0m \u001b[0;32mnot\u001b[0m \u001b[0;32mNone\u001b[0m\u001b[0;34m\u001b[0m\u001b[0;34m\u001b[0m\u001b[0m\n\u001b[1;32m     53\u001b[0m \u001b[0;34m\u001b[0m\u001b[0m\n",
            "\u001b[0;32m/usr/local/lib/python3.7/dist-packages/pandas/io/parsers/base_parser.py\u001b[0m in \u001b[0;36m_open_handles\u001b[0;34m(self, src, kwds)\u001b[0m\n\u001b[1;32m    227\u001b[0m             \u001b[0mmemory_map\u001b[0m\u001b[0;34m=\u001b[0m\u001b[0mkwds\u001b[0m\u001b[0;34m.\u001b[0m\u001b[0mget\u001b[0m\u001b[0;34m(\u001b[0m\u001b[0;34m\"memory_map\"\u001b[0m\u001b[0;34m,\u001b[0m \u001b[0;32mFalse\u001b[0m\u001b[0;34m)\u001b[0m\u001b[0;34m,\u001b[0m\u001b[0;34m\u001b[0m\u001b[0;34m\u001b[0m\u001b[0m\n\u001b[1;32m    228\u001b[0m             \u001b[0mstorage_options\u001b[0m\u001b[0;34m=\u001b[0m\u001b[0mkwds\u001b[0m\u001b[0;34m.\u001b[0m\u001b[0mget\u001b[0m\u001b[0;34m(\u001b[0m\u001b[0;34m\"storage_options\"\u001b[0m\u001b[0;34m,\u001b[0m \u001b[0;32mNone\u001b[0m\u001b[0;34m)\u001b[0m\u001b[0;34m,\u001b[0m\u001b[0;34m\u001b[0m\u001b[0;34m\u001b[0m\u001b[0m\n\u001b[0;32m--> 229\u001b[0;31m             \u001b[0merrors\u001b[0m\u001b[0;34m=\u001b[0m\u001b[0mkwds\u001b[0m\u001b[0;34m.\u001b[0m\u001b[0mget\u001b[0m\u001b[0;34m(\u001b[0m\u001b[0;34m\"encoding_errors\"\u001b[0m\u001b[0;34m,\u001b[0m \u001b[0;34m\"strict\"\u001b[0m\u001b[0;34m)\u001b[0m\u001b[0;34m,\u001b[0m\u001b[0;34m\u001b[0m\u001b[0;34m\u001b[0m\u001b[0m\n\u001b[0m\u001b[1;32m    230\u001b[0m         )\n\u001b[1;32m    231\u001b[0m \u001b[0;34m\u001b[0m\u001b[0m\n",
            "\u001b[0;32m/usr/local/lib/python3.7/dist-packages/pandas/io/common.py\u001b[0m in \u001b[0;36mget_handle\u001b[0;34m(path_or_buf, mode, encoding, compression, memory_map, is_text, errors, storage_options)\u001b[0m\n\u001b[1;32m    705\u001b[0m                 \u001b[0mencoding\u001b[0m\u001b[0;34m=\u001b[0m\u001b[0mioargs\u001b[0m\u001b[0;34m.\u001b[0m\u001b[0mencoding\u001b[0m\u001b[0;34m,\u001b[0m\u001b[0;34m\u001b[0m\u001b[0;34m\u001b[0m\u001b[0m\n\u001b[1;32m    706\u001b[0m                 \u001b[0merrors\u001b[0m\u001b[0;34m=\u001b[0m\u001b[0merrors\u001b[0m\u001b[0;34m,\u001b[0m\u001b[0;34m\u001b[0m\u001b[0;34m\u001b[0m\u001b[0m\n\u001b[0;32m--> 707\u001b[0;31m                 \u001b[0mnewline\u001b[0m\u001b[0;34m=\u001b[0m\u001b[0;34m\"\"\u001b[0m\u001b[0;34m,\u001b[0m\u001b[0;34m\u001b[0m\u001b[0;34m\u001b[0m\u001b[0m\n\u001b[0m\u001b[1;32m    708\u001b[0m             )\n\u001b[1;32m    709\u001b[0m         \u001b[0;32melse\u001b[0m\u001b[0;34m:\u001b[0m\u001b[0;34m\u001b[0m\u001b[0;34m\u001b[0m\u001b[0m\n",
            "\u001b[0;31mFileNotFoundError\u001b[0m: [Errno 2] No such file or directory: 'facebook-fact-check.csv'"
          ]
        }
      ]
    },
    {
      "cell_type": "markdown",
      "source": [
        "Clearly, this data is already tidy and does not require much ETL. However, there are some columns that are unnecessary for our purposes. Since we are primarily using BuzzFeed’s dataset to see how these newspages’ levels of fake news have trended with their current engagement on social media, we can disregard and remove columns such as Post URL, Debate, account_id, and post_id because they do not add necessary information to our analysis. We can also reorder the columns to our liking."
      ],
      "metadata": {
        "id": "9FRO0UV96Fnv"
      }
    },
    {
      "cell_type": "code",
      "source": [
        "buzzfeed_df.drop(['Post URL', 'Debate', 'account_id', 'post_id'], axis=1, inplace=True)\n",
        "buzzfeed_df = buzzfeed_df[['Page', 'Category', 'Date Published', 'Post Type', 'Rating', 'share_count', 'reaction_count', 'comment_count']]\n",
        "buzzfeed_df"
      ],
      "metadata": {
        "colab": {
          "base_uri": "https://localhost:8080/",
          "height": 424
        },
        "id": "Ww8lIGEl6e8g",
        "outputId": "6d8600e4-053b-461d-948a-eba2a1f13e32"
      },
      "execution_count": null,
      "outputs": [
        {
          "output_type": "execute_result",
          "data": {
            "text/plain": [
              "                   Page    Category Date Published Post Type  \\\n",
              "0     ABC News Politics  mainstream     2016-09-19     video   \n",
              "1     ABC News Politics  mainstream     2016-09-19      link   \n",
              "2     ABC News Politics  mainstream     2016-09-19      link   \n",
              "3     ABC News Politics  mainstream     2016-09-19      link   \n",
              "4     ABC News Politics  mainstream     2016-09-19     video   \n",
              "...                 ...         ...            ...       ...   \n",
              "2277      The Other 98%        left     2016-09-27     photo   \n",
              "2278      The Other 98%        left     2016-09-27      link   \n",
              "2279      The Other 98%        left     2016-09-27      link   \n",
              "2280      The Other 98%        left     2016-09-27      link   \n",
              "2281      The Other 98%        left     2016-09-27     photo   \n",
              "\n",
              "                         Rating  share_count  reaction_count  comment_count  \n",
              "0            no factual content          NaN           146.0           15.0  \n",
              "1                   mostly true          1.0            33.0           34.0  \n",
              "2                   mostly true         34.0            63.0           27.0  \n",
              "3                   mostly true         35.0           170.0           86.0  \n",
              "4                   mostly true        568.0          3188.0         2815.0  \n",
              "...                         ...          ...             ...            ...  \n",
              "2277         no factual content      21563.0         33388.0          391.0  \n",
              "2278                mostly true       1451.0          4828.0          342.0  \n",
              "2279  mixture of true and false       8236.0         12083.0          856.0  \n",
              "2280                mostly true       3985.0         12966.0          538.0  \n",
              "2281         no factual content      24499.0         47312.0         1375.0  \n",
              "\n",
              "[2282 rows x 8 columns]"
            ],
            "text/html": [
              "\n",
              "  <div id=\"df-3f61b64a-b017-4a5c-9000-5d6df55f45ed\">\n",
              "    <div class=\"colab-df-container\">\n",
              "      <div>\n",
              "<style scoped>\n",
              "    .dataframe tbody tr th:only-of-type {\n",
              "        vertical-align: middle;\n",
              "    }\n",
              "\n",
              "    .dataframe tbody tr th {\n",
              "        vertical-align: top;\n",
              "    }\n",
              "\n",
              "    .dataframe thead th {\n",
              "        text-align: right;\n",
              "    }\n",
              "</style>\n",
              "<table border=\"1\" class=\"dataframe\">\n",
              "  <thead>\n",
              "    <tr style=\"text-align: right;\">\n",
              "      <th></th>\n",
              "      <th>Page</th>\n",
              "      <th>Category</th>\n",
              "      <th>Date Published</th>\n",
              "      <th>Post Type</th>\n",
              "      <th>Rating</th>\n",
              "      <th>share_count</th>\n",
              "      <th>reaction_count</th>\n",
              "      <th>comment_count</th>\n",
              "    </tr>\n",
              "  </thead>\n",
              "  <tbody>\n",
              "    <tr>\n",
              "      <th>0</th>\n",
              "      <td>ABC News Politics</td>\n",
              "      <td>mainstream</td>\n",
              "      <td>2016-09-19</td>\n",
              "      <td>video</td>\n",
              "      <td>no factual content</td>\n",
              "      <td>NaN</td>\n",
              "      <td>146.0</td>\n",
              "      <td>15.0</td>\n",
              "    </tr>\n",
              "    <tr>\n",
              "      <th>1</th>\n",
              "      <td>ABC News Politics</td>\n",
              "      <td>mainstream</td>\n",
              "      <td>2016-09-19</td>\n",
              "      <td>link</td>\n",
              "      <td>mostly true</td>\n",
              "      <td>1.0</td>\n",
              "      <td>33.0</td>\n",
              "      <td>34.0</td>\n",
              "    </tr>\n",
              "    <tr>\n",
              "      <th>2</th>\n",
              "      <td>ABC News Politics</td>\n",
              "      <td>mainstream</td>\n",
              "      <td>2016-09-19</td>\n",
              "      <td>link</td>\n",
              "      <td>mostly true</td>\n",
              "      <td>34.0</td>\n",
              "      <td>63.0</td>\n",
              "      <td>27.0</td>\n",
              "    </tr>\n",
              "    <tr>\n",
              "      <th>3</th>\n",
              "      <td>ABC News Politics</td>\n",
              "      <td>mainstream</td>\n",
              "      <td>2016-09-19</td>\n",
              "      <td>link</td>\n",
              "      <td>mostly true</td>\n",
              "      <td>35.0</td>\n",
              "      <td>170.0</td>\n",
              "      <td>86.0</td>\n",
              "    </tr>\n",
              "    <tr>\n",
              "      <th>4</th>\n",
              "      <td>ABC News Politics</td>\n",
              "      <td>mainstream</td>\n",
              "      <td>2016-09-19</td>\n",
              "      <td>video</td>\n",
              "      <td>mostly true</td>\n",
              "      <td>568.0</td>\n",
              "      <td>3188.0</td>\n",
              "      <td>2815.0</td>\n",
              "    </tr>\n",
              "    <tr>\n",
              "      <th>...</th>\n",
              "      <td>...</td>\n",
              "      <td>...</td>\n",
              "      <td>...</td>\n",
              "      <td>...</td>\n",
              "      <td>...</td>\n",
              "      <td>...</td>\n",
              "      <td>...</td>\n",
              "      <td>...</td>\n",
              "    </tr>\n",
              "    <tr>\n",
              "      <th>2277</th>\n",
              "      <td>The Other 98%</td>\n",
              "      <td>left</td>\n",
              "      <td>2016-09-27</td>\n",
              "      <td>photo</td>\n",
              "      <td>no factual content</td>\n",
              "      <td>21563.0</td>\n",
              "      <td>33388.0</td>\n",
              "      <td>391.0</td>\n",
              "    </tr>\n",
              "    <tr>\n",
              "      <th>2278</th>\n",
              "      <td>The Other 98%</td>\n",
              "      <td>left</td>\n",
              "      <td>2016-09-27</td>\n",
              "      <td>link</td>\n",
              "      <td>mostly true</td>\n",
              "      <td>1451.0</td>\n",
              "      <td>4828.0</td>\n",
              "      <td>342.0</td>\n",
              "    </tr>\n",
              "    <tr>\n",
              "      <th>2279</th>\n",
              "      <td>The Other 98%</td>\n",
              "      <td>left</td>\n",
              "      <td>2016-09-27</td>\n",
              "      <td>link</td>\n",
              "      <td>mixture of true and false</td>\n",
              "      <td>8236.0</td>\n",
              "      <td>12083.0</td>\n",
              "      <td>856.0</td>\n",
              "    </tr>\n",
              "    <tr>\n",
              "      <th>2280</th>\n",
              "      <td>The Other 98%</td>\n",
              "      <td>left</td>\n",
              "      <td>2016-09-27</td>\n",
              "      <td>link</td>\n",
              "      <td>mostly true</td>\n",
              "      <td>3985.0</td>\n",
              "      <td>12966.0</td>\n",
              "      <td>538.0</td>\n",
              "    </tr>\n",
              "    <tr>\n",
              "      <th>2281</th>\n",
              "      <td>The Other 98%</td>\n",
              "      <td>left</td>\n",
              "      <td>2016-09-27</td>\n",
              "      <td>photo</td>\n",
              "      <td>no factual content</td>\n",
              "      <td>24499.0</td>\n",
              "      <td>47312.0</td>\n",
              "      <td>1375.0</td>\n",
              "    </tr>\n",
              "  </tbody>\n",
              "</table>\n",
              "<p>2282 rows × 8 columns</p>\n",
              "</div>\n",
              "      <button class=\"colab-df-convert\" onclick=\"convertToInteractive('df-3f61b64a-b017-4a5c-9000-5d6df55f45ed')\"\n",
              "              title=\"Convert this dataframe to an interactive table.\"\n",
              "              style=\"display:none;\">\n",
              "        \n",
              "  <svg xmlns=\"http://www.w3.org/2000/svg\" height=\"24px\"viewBox=\"0 0 24 24\"\n",
              "       width=\"24px\">\n",
              "    <path d=\"M0 0h24v24H0V0z\" fill=\"none\"/>\n",
              "    <path d=\"M18.56 5.44l.94 2.06.94-2.06 2.06-.94-2.06-.94-.94-2.06-.94 2.06-2.06.94zm-11 1L8.5 8.5l.94-2.06 2.06-.94-2.06-.94L8.5 2.5l-.94 2.06-2.06.94zm10 10l.94 2.06.94-2.06 2.06-.94-2.06-.94-.94-2.06-.94 2.06-2.06.94z\"/><path d=\"M17.41 7.96l-1.37-1.37c-.4-.4-.92-.59-1.43-.59-.52 0-1.04.2-1.43.59L10.3 9.45l-7.72 7.72c-.78.78-.78 2.05 0 2.83L4 21.41c.39.39.9.59 1.41.59.51 0 1.02-.2 1.41-.59l7.78-7.78 2.81-2.81c.8-.78.8-2.07 0-2.86zM5.41 20L4 18.59l7.72-7.72 1.47 1.35L5.41 20z\"/>\n",
              "  </svg>\n",
              "      </button>\n",
              "      \n",
              "  <style>\n",
              "    .colab-df-container {\n",
              "      display:flex;\n",
              "      flex-wrap:wrap;\n",
              "      gap: 12px;\n",
              "    }\n",
              "\n",
              "    .colab-df-convert {\n",
              "      background-color: #E8F0FE;\n",
              "      border: none;\n",
              "      border-radius: 50%;\n",
              "      cursor: pointer;\n",
              "      display: none;\n",
              "      fill: #1967D2;\n",
              "      height: 32px;\n",
              "      padding: 0 0 0 0;\n",
              "      width: 32px;\n",
              "    }\n",
              "\n",
              "    .colab-df-convert:hover {\n",
              "      background-color: #E2EBFA;\n",
              "      box-shadow: 0px 1px 2px rgba(60, 64, 67, 0.3), 0px 1px 3px 1px rgba(60, 64, 67, 0.15);\n",
              "      fill: #174EA6;\n",
              "    }\n",
              "\n",
              "    [theme=dark] .colab-df-convert {\n",
              "      background-color: #3B4455;\n",
              "      fill: #D2E3FC;\n",
              "    }\n",
              "\n",
              "    [theme=dark] .colab-df-convert:hover {\n",
              "      background-color: #434B5C;\n",
              "      box-shadow: 0px 1px 3px 1px rgba(0, 0, 0, 0.15);\n",
              "      filter: drop-shadow(0px 1px 2px rgba(0, 0, 0, 0.3));\n",
              "      fill: #FFFFFF;\n",
              "    }\n",
              "  </style>\n",
              "\n",
              "      <script>\n",
              "        const buttonEl =\n",
              "          document.querySelector('#df-3f61b64a-b017-4a5c-9000-5d6df55f45ed button.colab-df-convert');\n",
              "        buttonEl.style.display =\n",
              "          google.colab.kernel.accessAllowed ? 'block' : 'none';\n",
              "\n",
              "        async function convertToInteractive(key) {\n",
              "          const element = document.querySelector('#df-3f61b64a-b017-4a5c-9000-5d6df55f45ed');\n",
              "          const dataTable =\n",
              "            await google.colab.kernel.invokeFunction('convertToInteractive',\n",
              "                                                     [key], {});\n",
              "          if (!dataTable) return;\n",
              "\n",
              "          const docLinkHtml = 'Like what you see? Visit the ' +\n",
              "            '<a target=\"_blank\" href=https://colab.research.google.com/notebooks/data_table.ipynb>data table notebook</a>'\n",
              "            + ' to learn more about interactive tables.';\n",
              "          element.innerHTML = '';\n",
              "          dataTable['output_type'] = 'display_data';\n",
              "          await google.colab.output.renderOutput(dataTable, element);\n",
              "          const docLink = document.createElement('div');\n",
              "          docLink.innerHTML = docLinkHtml;\n",
              "          element.appendChild(docLink);\n",
              "        }\n",
              "      </script>\n",
              "    </div>\n",
              "  </div>\n",
              "  "
            ]
          },
          "metadata": {},
          "execution_count": 3
        }
      ]
    },
    {
      "cell_type": "markdown",
      "source": [
        "The 'Page' variable was kept because it is vital for us to know which news page a post came from. The 'Category', 'Date Published', and 'Post Type' variables were kept because they provide interesting characteristics of these posts and may be potentially useful for further analysis later on. The 'Rating', 'share_count', 'reaction_count', and 'comment_count' variables are arguably the most important variables to keep because of the focus of our analysis. We want to be able to see if there are relationships between a news source's amount of fake news published in 2016 and increase/decrease in engagement in 2022. Therefore, knowing this information for the sources in 2016 is essential to be able to compare to 2022. "
      ],
      "metadata": {
        "id": "aN8sxdF2CEej"
      }
    },
    {
      "cell_type": "markdown",
      "source": [
        "We can now perform summary statistics on this dataset (though in-depth analysis has already been done in BuzzFeed’s article about this study). If we wanted to find the total number of shares across all posts by a specific newspage, such as ABC News Politics, we could do so with the following command:"
      ],
      "metadata": {
        "id": "ywHzkaBO7dgS"
      }
    },
    {
      "cell_type": "code",
      "source": [
        "buzzfeed_df[(buzzfeed_df[\"Page\"] == \"ABC News Politics\")][\"share_count\"].sum()"
      ],
      "metadata": {
        "colab": {
          "base_uri": "https://localhost:8080/"
        },
        "id": "pDLkogZv7fQv",
        "outputId": "cb9591ea-6af0-460d-c4cd-6ed977a9fc65"
      },
      "execution_count": null,
      "outputs": [
        {
          "output_type": "execute_result",
          "data": {
            "text/plain": [
              "7828.0"
            ]
          },
          "metadata": {},
          "execution_count": 4
        }
      ]
    },
    {
      "cell_type": "markdown",
      "source": [
        "Or if we wanted to know how many posts there were in each Rating category for a specific newspage, we could do so with the following command:"
      ],
      "metadata": {
        "id": "s8zEL--6XbNc"
      }
    },
    {
      "cell_type": "code",
      "source": [
        "buzzfeed_df[(buzzfeed_df[\"Page\"] == \"Right Wing News\")][\"Rating\"].value_counts()"
      ],
      "metadata": {
        "colab": {
          "base_uri": "https://localhost:8080/"
        },
        "id": "wGfhk8YOXv93",
        "outputId": "d40abbcb-7040-4c1c-e35b-542d68f2ff93"
      },
      "execution_count": null,
      "outputs": [
        {
          "output_type": "execute_result",
          "data": {
            "text/plain": [
              "mostly true                  142\n",
              "mixture of true and false     89\n",
              "mostly false                  26\n",
              "no factual content            11\n",
              "Name: Rating, dtype: int64"
            ]
          },
          "metadata": {},
          "execution_count": 5
        }
      ]
    },
    {
      "cell_type": "markdown",
      "source": [
        "Finally, let's say that we want to visually compare the amount of \"mostly true\" posts from all left-wing news pages to the amount of \"mostly true\" posts from all right-wing news pages. We could do so with the following commands:"
      ],
      "metadata": {
        "id": "RrCUtQS6YV7-"
      }
    },
    {
      "cell_type": "code",
      "source": [
        "buzzfeed_copy = buzzfeed_df.copy()\n",
        "buzzfeed_copy.groupby(\"Category\")[\"Rating\"].value_counts().plot.bar(rot=80)"
      ],
      "metadata": {
        "colab": {
          "base_uri": "https://localhost:8080/",
          "height": 484
        },
        "id": "3yYqOLJOYvWt",
        "outputId": "f904dc07-7121-4b09-e8ad-ef7b596e1461"
      },
      "execution_count": null,
      "outputs": [
        {
          "output_type": "execute_result",
          "data": {
            "text/plain": [
              "<matplotlib.axes._subplots.AxesSubplot at 0x7f7d7476b190>"
            ]
          },
          "metadata": {},
          "execution_count": 13
        },
        {
          "output_type": "display_data",
          "data": {
            "text/plain": [
              "<Figure size 432x288 with 1 Axes>"
            ],
            "image/png": "[encoded data removed]"
          },
          "metadata": {
            "needs_background": "light"
          }
        }
      ]
    },
    {
      "cell_type": "markdown",
      "source": [
        "# Extracting Twitter Data Using Twitter's API\n",
        "We want to build our own dataset containing the Twitter engagement statistics of each newspage's 100 most recent tweets. In order to do this, we must utilize Twitter's API. A very useful library that that we can easily use in CoLab is called tweepy, and it will allow us to do everything necessary for our analysis. We registered an account as a Twitter developer, created an App for our project, and obtained all of our identifying information. We can now authenticate the app that we created in the Twitter Developer Portal."
      ],
      "metadata": {
        "id": "CmN9KrSnjFIa"
      }
    },
    {
      "cell_type": "code",
      "source": [
        "import tweepy\n",
        "\n",
        "api_key = \"uuBeZFnYWcIL2LvEY1cmciVF6\"\n",
        "api_secret = \"7c0jLKgHDpneApG4JpyYjSERxOAK5DMwIhTPAoJhynQeaGnpem\"\n",
        "access_token = \"1146497335423320064-CEg7bnY25v6umjpjbMaA2uE3RYuxW8\"\n",
        "access_secret = \"wWxyB0gGFCYfc6OtaZJLMb4cOkxNGs5Bn95N7zaFPr9LW\"\n",
        "\n",
        "auth = tweepy.OAuthHandler(api_key, api_secret)\n",
        "auth.set_access_token(access_token, access_secret)\n",
        " \n",
        "api = tweepy.API(auth)"
      ],
      "metadata": {
        "id": "Q5MBDHUdZecP"
      },
      "execution_count": null,
      "outputs": []
    },
    {
      "cell_type": "markdown",
      "source": [
        "We can use the following commands to pull the 100 latest tweets from each of the news sources:"
      ],
      "metadata": {
        "id": "mfNSgUiPqwTK"
      }
    },
    {
      "cell_type": "code",
      "source": [
        "userID = \"politico\"\n",
        "tweets = api.user_timeline(screen_name=userID, \n",
        "                           count=100,\n",
        "                           include_rts = False,\n",
        "                           tweet_mode = 'extended'\n",
        "                           )"
      ],
      "metadata": {
        "id": "f6qUL7DSpnpn"
      },
      "execution_count": null,
      "outputs": []
    },
    {
      "cell_type": "markdown",
      "source": [
        "All of the structure for the code above was found on https://fairyonice.github.io/extract-someones-tweet-using-tweepy.html and https://www.jcchouinard.com/how-to-use-twitter-api-with-python/ "
      ],
      "metadata": {
        "id": "JIVbL6v6p2G1"
      }
    },
    {
      "cell_type": "markdown",
      "source": [
        "At the moment, the above commands result in the following error message: \n",
        "\n",
        "\"*You currently have Essential access which includes access to Twitter API v2 endpoints only. If you need access to this endpoint, you’ll need to apply for Elevated access via the Developer Portal.*\"\n",
        "\n",
        "In order to actually access the data, I plan to apply for Elevated access for Twitter's API. I will then be able to pull the latest 100 tweets from each news source, load the engagement statistics data into a pandas dataframe, and analyze it alongside the buzzfeed_df dataframe."
      ],
      "metadata": {
        "id": "CBzzg6r_rFvW"
      }
    },
    {
      "cell_type": "code",
      "source": [
        "%%shell\n",
        "jupyter nbconvert --to html Milestone1.ipynb"
      ],
      "metadata": {
        "id": "uz4Xf3s87Nkf",
        "colab": {
          "base_uri": "https://localhost:8080/"
        },
        "outputId": "fe74dfe2-e3ee-4df8-cafe-68946b7a3472"
      },
      "execution_count": null,
      "outputs": [
        {
          "output_type": "stream",
          "name": "stdout",
          "text": [
            "[NbConvertApp] Converting notebook Milestone1.ipynb to html\n",
            "[NbConvertApp] Writing 347272 bytes to Milestone1.html\n"
          ]
        },
        {
          "output_type": "execute_result",
          "data": {
            "text/plain": []
          },
          "metadata": {},
          "execution_count": 3
        }
      ]
    }
  ]
}